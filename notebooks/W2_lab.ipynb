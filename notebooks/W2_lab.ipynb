{
  "cells": [
    {
      "cell_type": "markdown",
      "metadata": {
        "id": "4MiU6OhtrTgb"
      },
      "source": [
        "# Week 2 Lab\n",
        "\n",
        "**Datasets**:\n",
        "\n",
        "The following datasets are used in this lab.\n",
        "\n",
        "- [nyc_subway_stations.tsv](https://open.gishub.org/data/duckdb/nyc_subway_stations.tsv)\n",
        "- [nyc_neighborhoods.tsv](https://open.gishub.org/data/duckdb/nyc_neighborhoods.tsv)"
      ],
      "id": "4MiU6OhtrTgb"
    },
    {
      "cell_type": "code",
      "execution_count": 6,
      "metadata": {
        "id": "Jz3CUy5TrTgc"
      },
      "outputs": [],
      "source": [
        "# %pip install duckdb duckdb-engine jupysql"
      ],
      "id": "Jz3CUy5TrTgc"
    },
    {
      "cell_type": "code",
      "execution_count": 7,
      "metadata": {
        "id": "y7sUd7xerTgd",
        "outputId": "518bf9f8-2b0b-4611-9704-f848f6ee4007",
        "colab": {
          "base_uri": "https://localhost:8080/"
        }
      },
      "outputs": [
        {
          "output_type": "stream",
          "name": "stdout",
          "text": [
            "The sql extension is already loaded. To reload it, use:\n",
            "  %reload_ext sql\n"
          ]
        }
      ],
      "source": [
        "import duckdb\n",
        "\n",
        "%load_ext sql"
      ],
      "id": "y7sUd7xerTgd"
    },
    {
      "cell_type": "code",
      "execution_count": 8,
      "metadata": {
        "id": "DAh0n--DrTge"
      },
      "outputs": [],
      "source": [
        "%config SqlMagic.autopandas = True\n",
        "%config SqlMagic.feedback = False\n",
        "%config SqlMagic.displaycon = False"
      ],
      "id": "DAh0n--DrTge"
    },
    {
      "cell_type": "markdown",
      "metadata": {
        "id": "9LZNlpm1rTge"
      },
      "source": [
        "## Question 1: Creating Tables\n",
        "\n",
        "Create a database, then write a SQL query to create a table named `nyc_subway_stations` and load the data from the file `nyc_subway_stations.tsv` into it. Similarly, create a table named `nyc_neighborhoods` and load the data from the file `nyc_neighborhoods.tsv` into it."
      ],
      "id": "9LZNlpm1rTge"
    },
    {
      "cell_type": "code",
      "execution_count": 9,
      "metadata": {
        "id": "7HMmtE2yrTge"
      },
      "outputs": [],
      "source": [
        "%sql duckdb:///:memory:"
      ],
      "id": "7HMmtE2yrTge"
    },
    {
      "cell_type": "code",
      "source": [
        "%sql INSTALL httpfs;\n",
        "%sql LOAD httpfs;"
      ],
      "metadata": {
        "id": "z2exchKgrmtN",
        "outputId": "4d6f349a-e196-4f46-81d1-25ee037b9d8f",
        "colab": {
          "base_uri": "https://localhost:8080/",
          "height": 53
        }
      },
      "id": "z2exchKgrmtN",
      "execution_count": 10,
      "outputs": [
        {
          "output_type": "execute_result",
          "data": {
            "text/plain": [
              "Empty DataFrame\n",
              "Columns: [Success]\n",
              "Index: []"
            ],
            "text/html": [
              "\n",
              "  <div id=\"df-c70a663a-42f8-4205-8008-b7222835f56e\" class=\"colab-df-container\">\n",
              "    <div>\n",
              "<style scoped>\n",
              "    .dataframe tbody tr th:only-of-type {\n",
              "        vertical-align: middle;\n",
              "    }\n",
              "\n",
              "    .dataframe tbody tr th {\n",
              "        vertical-align: top;\n",
              "    }\n",
              "\n",
              "    .dataframe thead th {\n",
              "        text-align: right;\n",
              "    }\n",
              "</style>\n",
              "<table border=\"1\" class=\"dataframe\">\n",
              "  <thead>\n",
              "    <tr style=\"text-align: right;\">\n",
              "      <th></th>\n",
              "      <th>Success</th>\n",
              "    </tr>\n",
              "  </thead>\n",
              "  <tbody>\n",
              "  </tbody>\n",
              "</table>\n",
              "</div>\n",
              "    <div class=\"colab-df-buttons\">\n",
              "\n",
              "  <div class=\"colab-df-container\">\n",
              "    <button class=\"colab-df-convert\" onclick=\"convertToInteractive('df-c70a663a-42f8-4205-8008-b7222835f56e')\"\n",
              "            title=\"Convert this dataframe to an interactive table.\"\n",
              "            style=\"display:none;\">\n",
              "\n",
              "  <svg xmlns=\"http://www.w3.org/2000/svg\" height=\"24px\" viewBox=\"0 -960 960 960\">\n",
              "    <path d=\"M120-120v-720h720v720H120Zm60-500h600v-160H180v160Zm220 220h160v-160H400v160Zm0 220h160v-160H400v160ZM180-400h160v-160H180v160Zm440 0h160v-160H620v160ZM180-180h160v-160H180v160Zm440 0h160v-160H620v160Z\"/>\n",
              "  </svg>\n",
              "    </button>\n",
              "\n",
              "  <style>\n",
              "    .colab-df-container {\n",
              "      display:flex;\n",
              "      gap: 12px;\n",
              "    }\n",
              "\n",
              "    .colab-df-convert {\n",
              "      background-color: #E8F0FE;\n",
              "      border: none;\n",
              "      border-radius: 50%;\n",
              "      cursor: pointer;\n",
              "      display: none;\n",
              "      fill: #1967D2;\n",
              "      height: 32px;\n",
              "      padding: 0 0 0 0;\n",
              "      width: 32px;\n",
              "    }\n",
              "\n",
              "    .colab-df-convert:hover {\n",
              "      background-color: #E2EBFA;\n",
              "      box-shadow: 0px 1px 2px rgba(60, 64, 67, 0.3), 0px 1px 3px 1px rgba(60, 64, 67, 0.15);\n",
              "      fill: #174EA6;\n",
              "    }\n",
              "\n",
              "    .colab-df-buttons div {\n",
              "      margin-bottom: 4px;\n",
              "    }\n",
              "\n",
              "    [theme=dark] .colab-df-convert {\n",
              "      background-color: #3B4455;\n",
              "      fill: #D2E3FC;\n",
              "    }\n",
              "\n",
              "    [theme=dark] .colab-df-convert:hover {\n",
              "      background-color: #434B5C;\n",
              "      box-shadow: 0px 1px 3px 1px rgba(0, 0, 0, 0.15);\n",
              "      filter: drop-shadow(0px 1px 2px rgba(0, 0, 0, 0.3));\n",
              "      fill: #FFFFFF;\n",
              "    }\n",
              "  </style>\n",
              "\n",
              "    <script>\n",
              "      const buttonEl =\n",
              "        document.querySelector('#df-c70a663a-42f8-4205-8008-b7222835f56e button.colab-df-convert');\n",
              "      buttonEl.style.display =\n",
              "        google.colab.kernel.accessAllowed ? 'block' : 'none';\n",
              "\n",
              "      async function convertToInteractive(key) {\n",
              "        const element = document.querySelector('#df-c70a663a-42f8-4205-8008-b7222835f56e');\n",
              "        const dataTable =\n",
              "          await google.colab.kernel.invokeFunction('convertToInteractive',\n",
              "                                                    [key], {});\n",
              "        if (!dataTable) return;\n",
              "\n",
              "        const docLinkHtml = 'Like what you see? Visit the ' +\n",
              "          '<a target=\"_blank\" href=https://colab.research.google.com/notebooks/data_table.ipynb>data table notebook</a>'\n",
              "          + ' to learn more about interactive tables.';\n",
              "        element.innerHTML = '';\n",
              "        dataTable['output_type'] = 'display_data';\n",
              "        await google.colab.output.renderOutput(dataTable, element);\n",
              "        const docLink = document.createElement('div');\n",
              "        docLink.innerHTML = docLinkHtml;\n",
              "        element.appendChild(docLink);\n",
              "      }\n",
              "    </script>\n",
              "  </div>\n",
              "\n",
              "\n",
              "    </div>\n",
              "  </div>\n"
            ],
            "application/vnd.google.colaboratory.intrinsic+json": {
              "type": "dataframe",
              "summary": "{\n  \"name\": \"get_ipython()\",\n  \"rows\": 0,\n  \"fields\": [\n    {\n      \"column\": \"Success\",\n      \"properties\": {\n        \"dtype\": \"boolean\",\n        \"num_unique_values\": 0,\n        \"samples\": [],\n        \"semantic_type\": \"\",\n        \"description\": \"\"\n      }\n    }\n  ]\n}"
            }
          },
          "metadata": {},
          "execution_count": 10
        }
      ]
    },
    {
      "cell_type": "code",
      "source": [
        "%%sql\n",
        "\n",
        "CREATE TABLE nyc_subway_stations AS SELECT * FROM 'https://open.gishub.org/data/duckdb/nyc_subway_stations.tsv';\n",
        "CREATE TABLE nyc_neighborhoods AS SELECT * FROM 'https://open.gishub.org/data/duckdb/nyc_neighborhoods.tsv';"
      ],
      "metadata": {
        "id": "Wxpm5hI5ro-t",
        "outputId": "3efc7b11-4e08-441c-94f4-160f32acb326",
        "colab": {
          "base_uri": "https://localhost:8080/",
          "height": 53
        }
      },
      "id": "Wxpm5hI5ro-t",
      "execution_count": 11,
      "outputs": [
        {
          "output_type": "execute_result",
          "data": {
            "text/plain": [
              "Empty DataFrame\n",
              "Columns: [Success]\n",
              "Index: []"
            ],
            "text/html": [
              "\n",
              "  <div id=\"df-1eb3ab64-6a85-4bc6-8468-0e2ba60c8322\" class=\"colab-df-container\">\n",
              "    <div>\n",
              "<style scoped>\n",
              "    .dataframe tbody tr th:only-of-type {\n",
              "        vertical-align: middle;\n",
              "    }\n",
              "\n",
              "    .dataframe tbody tr th {\n",
              "        vertical-align: top;\n",
              "    }\n",
              "\n",
              "    .dataframe thead th {\n",
              "        text-align: right;\n",
              "    }\n",
              "</style>\n",
              "<table border=\"1\" class=\"dataframe\">\n",
              "  <thead>\n",
              "    <tr style=\"text-align: right;\">\n",
              "      <th></th>\n",
              "      <th>Success</th>\n",
              "    </tr>\n",
              "  </thead>\n",
              "  <tbody>\n",
              "  </tbody>\n",
              "</table>\n",
              "</div>\n",
              "    <div class=\"colab-df-buttons\">\n",
              "\n",
              "  <div class=\"colab-df-container\">\n",
              "    <button class=\"colab-df-convert\" onclick=\"convertToInteractive('df-1eb3ab64-6a85-4bc6-8468-0e2ba60c8322')\"\n",
              "            title=\"Convert this dataframe to an interactive table.\"\n",
              "            style=\"display:none;\">\n",
              "\n",
              "  <svg xmlns=\"http://www.w3.org/2000/svg\" height=\"24px\" viewBox=\"0 -960 960 960\">\n",
              "    <path d=\"M120-120v-720h720v720H120Zm60-500h600v-160H180v160Zm220 220h160v-160H400v160Zm0 220h160v-160H400v160ZM180-400h160v-160H180v160Zm440 0h160v-160H620v160ZM180-180h160v-160H180v160Zm440 0h160v-160H620v160Z\"/>\n",
              "  </svg>\n",
              "    </button>\n",
              "\n",
              "  <style>\n",
              "    .colab-df-container {\n",
              "      display:flex;\n",
              "      gap: 12px;\n",
              "    }\n",
              "\n",
              "    .colab-df-convert {\n",
              "      background-color: #E8F0FE;\n",
              "      border: none;\n",
              "      border-radius: 50%;\n",
              "      cursor: pointer;\n",
              "      display: none;\n",
              "      fill: #1967D2;\n",
              "      height: 32px;\n",
              "      padding: 0 0 0 0;\n",
              "      width: 32px;\n",
              "    }\n",
              "\n",
              "    .colab-df-convert:hover {\n",
              "      background-color: #E2EBFA;\n",
              "      box-shadow: 0px 1px 2px rgba(60, 64, 67, 0.3), 0px 1px 3px 1px rgba(60, 64, 67, 0.15);\n",
              "      fill: #174EA6;\n",
              "    }\n",
              "\n",
              "    .colab-df-buttons div {\n",
              "      margin-bottom: 4px;\n",
              "    }\n",
              "\n",
              "    [theme=dark] .colab-df-convert {\n",
              "      background-color: #3B4455;\n",
              "      fill: #D2E3FC;\n",
              "    }\n",
              "\n",
              "    [theme=dark] .colab-df-convert:hover {\n",
              "      background-color: #434B5C;\n",
              "      box-shadow: 0px 1px 3px 1px rgba(0, 0, 0, 0.15);\n",
              "      filter: drop-shadow(0px 1px 2px rgba(0, 0, 0, 0.3));\n",
              "      fill: #FFFFFF;\n",
              "    }\n",
              "  </style>\n",
              "\n",
              "    <script>\n",
              "      const buttonEl =\n",
              "        document.querySelector('#df-1eb3ab64-6a85-4bc6-8468-0e2ba60c8322 button.colab-df-convert');\n",
              "      buttonEl.style.display =\n",
              "        google.colab.kernel.accessAllowed ? 'block' : 'none';\n",
              "\n",
              "      async function convertToInteractive(key) {\n",
              "        const element = document.querySelector('#df-1eb3ab64-6a85-4bc6-8468-0e2ba60c8322');\n",
              "        const dataTable =\n",
              "          await google.colab.kernel.invokeFunction('convertToInteractive',\n",
              "                                                    [key], {});\n",
              "        if (!dataTable) return;\n",
              "\n",
              "        const docLinkHtml = 'Like what you see? Visit the ' +\n",
              "          '<a target=\"_blank\" href=https://colab.research.google.com/notebooks/data_table.ipynb>data table notebook</a>'\n",
              "          + ' to learn more about interactive tables.';\n",
              "        element.innerHTML = '';\n",
              "        dataTable['output_type'] = 'display_data';\n",
              "        await google.colab.output.renderOutput(dataTable, element);\n",
              "        const docLink = document.createElement('div');\n",
              "        docLink.innerHTML = docLinkHtml;\n",
              "        element.appendChild(docLink);\n",
              "      }\n",
              "    </script>\n",
              "  </div>\n",
              "\n",
              "\n",
              "    </div>\n",
              "  </div>\n"
            ],
            "application/vnd.google.colaboratory.intrinsic+json": {
              "type": "dataframe",
              "summary": "{\n  \"name\": \"get_ipython()\",\n  \"rows\": 0,\n  \"fields\": [\n    {\n      \"column\": \"Success\",\n      \"properties\": {\n        \"dtype\": \"boolean\",\n        \"num_unique_values\": 0,\n        \"samples\": [],\n        \"semantic_type\": \"\",\n        \"description\": \"\"\n      }\n    }\n  ]\n}"
            }
          },
          "metadata": {},
          "execution_count": 11
        }
      ]
    },
    {
      "cell_type": "markdown",
      "metadata": {
        "id": "8ZExRNoBrTgf"
      },
      "source": [
        "## Question 2: Column Filtering\n",
        "\n",
        "Write a SQL query to display the `ID`, `NAME`, and `BOROUGH` of each subway station in the `nyc_subway_stations` dataset."
      ],
      "id": "8ZExRNoBrTgf"
    },
    {
      "cell_type": "code",
      "execution_count": null,
      "metadata": {
        "id": "Qq36Qn4trTgf"
      },
      "outputs": [],
      "source": [
        "# Add your code here."
      ],
      "id": "Qq36Qn4trTgf"
    },
    {
      "cell_type": "markdown",
      "metadata": {
        "id": "NIVFCawqrTgg"
      },
      "source": [
        "## Question 3: Row Filtering\n",
        "\n",
        "Write a SQL query to find all subway stations in the `nyc_subway_stations` dataset that are located in the borough of Manhattan."
      ],
      "id": "NIVFCawqrTgg"
    },
    {
      "cell_type": "code",
      "execution_count": null,
      "metadata": {
        "id": "RmSgy-nMrTgg"
      },
      "outputs": [],
      "source": [
        "# Add your code here."
      ],
      "id": "RmSgy-nMrTgg"
    },
    {
      "cell_type": "markdown",
      "metadata": {
        "id": "AMc7pSAcrTgg"
      },
      "source": [
        "## Question 4: Sorting Results\n",
        "\n",
        "Write a SQL query to list the subway stations in the `nyc_subway_stations` dataset in alphabetical order by their names."
      ],
      "id": "AMc7pSAcrTgg"
    },
    {
      "cell_type": "code",
      "execution_count": null,
      "metadata": {
        "id": "C6rFhNBDrTgg"
      },
      "outputs": [],
      "source": [
        "# Add your code here."
      ],
      "id": "C6rFhNBDrTgg"
    },
    {
      "cell_type": "markdown",
      "metadata": {
        "id": "-6yuYWgfrTgh"
      },
      "source": [
        "## Question 5: Unique Values\n",
        "\n",
        "Write a SQL query to find the distinct boroughs represented in the `nyc_subway_stations` dataset."
      ],
      "id": "-6yuYWgfrTgh"
    },
    {
      "cell_type": "code",
      "execution_count": null,
      "metadata": {
        "id": "w8glRMtTrTgh"
      },
      "outputs": [],
      "source": [
        "# Add your code here."
      ],
      "id": "w8glRMtTrTgh"
    },
    {
      "cell_type": "markdown",
      "metadata": {
        "id": "4EErBhZarTgh"
      },
      "source": [
        "## Question 6: Counting Rows\n",
        "\n",
        "Write a SQL query to count the number of subway stations in each borough in the `nyc_subway_stations` dataset."
      ],
      "id": "4EErBhZarTgh"
    },
    {
      "cell_type": "code",
      "execution_count": null,
      "metadata": {
        "id": "eU7ZvfsrrTgh"
      },
      "outputs": [],
      "source": [
        "# Add your code here."
      ],
      "id": "eU7ZvfsrrTgh"
    },
    {
      "cell_type": "markdown",
      "metadata": {
        "id": "guWTwV__rTgh"
      },
      "source": [
        "## Question 7: Aggregating Data\n",
        "\n",
        "Write a SQL query to list the number of subway stations in each borough, sorted in descending order by the count."
      ],
      "id": "guWTwV__rTgh"
    },
    {
      "cell_type": "code",
      "execution_count": null,
      "metadata": {
        "id": "UO1FjHCbrTgh"
      },
      "outputs": [],
      "source": [
        "# Add your code here."
      ],
      "id": "UO1FjHCbrTgh"
    },
    {
      "cell_type": "markdown",
      "metadata": {
        "id": "EPpOJ76srTgh"
      },
      "source": [
        "## Question 8: Joining Tables\n",
        "\n",
        "Write a SQL query to join the `nyc_subway_stations` and `nyc_neighborhoods` datasets on the borough name, displaying the subway station name and the neighborhood name."
      ],
      "id": "EPpOJ76srTgh"
    },
    {
      "cell_type": "code",
      "execution_count": null,
      "metadata": {
        "id": "46gzWghBrTgi"
      },
      "outputs": [],
      "source": [
        "# Add your code here."
      ],
      "id": "46gzWghBrTgi"
    },
    {
      "cell_type": "markdown",
      "metadata": {
        "id": "IO8RVQAxrTgi"
      },
      "source": [
        "## Question 9: String Manipulation\n",
        "\n",
        "Write a SQL query to display the names of subway stations in the `nyc_subway_stations` dataset that contain the word \"St\" in their names."
      ],
      "id": "IO8RVQAxrTgi"
    },
    {
      "cell_type": "code",
      "execution_count": null,
      "metadata": {
        "id": "e03iftXVrTgi"
      },
      "outputs": [],
      "source": [
        "# Add your code here."
      ],
      "id": "e03iftXVrTgi"
    },
    {
      "cell_type": "markdown",
      "metadata": {
        "id": "qHV2vcaErTgi"
      },
      "source": [
        "## Question 10: Filtering with Multiple Conditions\n",
        "\n",
        "Write a SQL query to find all subway stations in the `nyc_subway_stations` dataset that are in the borough of Brooklyn and have routes that include the letter \"R\"."
      ],
      "id": "qHV2vcaErTgi"
    },
    {
      "cell_type": "code",
      "execution_count": null,
      "metadata": {
        "id": "eyEiT9a7rTgi"
      },
      "outputs": [],
      "source": [
        "# Add your code here."
      ],
      "id": "eyEiT9a7rTgi"
    },
    {
      "cell_type": "markdown",
      "id": "2a78cbfd",
      "metadata": {
        "id": "2a78cbfd"
      },
      "source": [
        "Once you've completed your attempt, you can check your answers [here](https://github.com/oballinger/CASA0025/blob/main/notebooks/W02_lab_solution.ipynb)."
      ]
    }
  ],
  "metadata": {
    "kernelspec": {
      "display_name": "Python 3",
      "language": "python",
      "name": "python3"
    },
    "language_info": {
      "codemirror_mode": {
        "name": "ipython",
        "version": 3
      },
      "file_extension": ".py",
      "mimetype": "text/x-python",
      "name": "python",
      "nbconvert_exporter": "python",
      "pygments_lexer": "ipython3",
      "version": "3.9.18"
    },
    "colab": {
      "provenance": []
    }
  },
  "nbformat": 4,
  "nbformat_minor": 5
}